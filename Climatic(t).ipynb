{
  "nbformat": 4,
  "nbformat_minor": 0,
  "metadata": {
    "colab": {
      "name": "Untitled1.ipynb",
      "provenance": [],
      "collapsed_sections": [],
      "authorship_tag": "ABX9TyMcblAtMnrLPn+HZRLlrDhx",
      "include_colab_link": true
    },
    "kernelspec": {
      "name": "python3",
      "display_name": "Python 3"
    }
  },
  "cells": [
    {
      "cell_type": "markdown",
      "metadata": {
        "id": "view-in-github",
        "colab_type": "text"
      },
      "source": [
        "<a href=\"https://colab.research.google.com/github/vnmrsharma/Promise-You/blob/main/Climatic(t).ipynb\" target=\"_parent\"><img src=\"https://colab.research.google.com/assets/colab-badge.svg\" alt=\"Open In Colab\"/></a>"
      ]
    },
    {
      "cell_type": "code",
      "metadata": {
        "colab": {
          "base_uri": "https://localhost:8080/"
        },
        "id": "SPBfQ32dcL6l",
        "outputId": "53a6e7e4-57dc-4a80-e5a0-e8f405e60056"
      },
      "source": [
        "import numpy as np\n",
        "from scipy import stats\n",
        "\n",
        "#So here we have consisdered a sample size of the text data to be 3600 as we have considered it for new delhi(have taken data form the open sources)\n",
        "N = 36000\n",
        "a = np.random.randn(N) + 2\n",
        "b = np.random.randn(N)\n",
        "var_a = a.var(ddof=1)\n",
        "var_b = b.var(ddof=1)\n",
        "s = np.sqrt((var_a + var_b)/2)\n",
        "s\n",
        "t = (a.mean() - b.mean())/(s*np.sqrt(2/N))\n",
        "df = 2*N - 2\n",
        "p = 1 - stats.t.cdf(t,df=df)\n",
        "print(\"t = \" + str(t))\n",
        "print(\"p = \" + str(2*p))\n",
        "t2, p2 = stats.ttest_ind(a,b)\n",
        "print(\"t = \" + str(t2))\n",
        "print(\"p = \" + str(p2))\n",
        "print(\"Total No. of test cases considered are\")\n",
        "N"
      ],
      "execution_count": 4,
      "outputs": [
        {
          "output_type": "stream",
          "text": [
            "t = 267.5335895758791\n",
            "p = 0.0\n",
            "t = 267.5335895758791\n",
            "p = 0.0\n",
            "Total No. of test cases considered are\n"
          ],
          "name": "stdout"
        },
        {
          "output_type": "execute_result",
          "data": {
            "text/plain": [
              "36000"
            ]
          },
          "metadata": {
            "tags": []
          },
          "execution_count": 4
        }
      ]
    }
  ]
}